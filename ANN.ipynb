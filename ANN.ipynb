{
  "nbformat": 4,
  "nbformat_minor": 0,
  "metadata": {
    "colab": {
      "provenance": []
    },
    "kernelspec": {
      "name": "python3",
      "display_name": "Python 3"
    },
    "language_info": {
      "name": "python"
    }
  },
  "cells": [
    {
      "cell_type": "code",
      "execution_count": null,
      "metadata": {
        "colab": {
          "base_uri": "https://localhost:8080/"
        },
        "id": "vdF4dNHZyWvL",
        "outputId": "68b2eccf-9b27-4895-c589-4ed0df4806ee",
        "collapsed": true
      },
      "outputs": [
        {
          "output_type": "stream",
          "name": "stdout",
          "text": [
            "Collecting numpy-financial\n",
            "  Downloading numpy_financial-1.0.0-py3-none-any.whl.metadata (2.2 kB)\n",
            "Requirement already satisfied: numpy>=1.15 in /usr/local/lib/python3.10/dist-packages (from numpy-financial) (1.26.4)\n",
            "Downloading numpy_financial-1.0.0-py3-none-any.whl (14 kB)\n",
            "Installing collected packages: numpy-financial\n",
            "Successfully installed numpy-financial-1.0.0\n"
          ]
        }
      ],
      "source": [
        "# Install necessary libraries\n",
        "!pip install numpy-financial\n",
        "\n"
      ]
    },
    {
      "cell_type": "code",
      "source": [
        "# Import necessary libraries\n",
        "import pandas as pd\n",
        "import numpy as np\n",
        "from sklearn.model_selection import train_test_split\n",
        "from sklearn.preprocessing import StandardScaler\n",
        "from sklearn.utils.class_weight import compute_class_weight\n",
        "from sklearn.metrics import accuracy_score, precision_score, recall_score, f1_score, confusion_matrix\n",
        "import seaborn as sns\n",
        "import matplotlib.pyplot as plt\n",
        "import tensorflow as tf\n",
        "from tensorflow.keras.models import Sequential\n",
        "from tensorflow.keras.layers import Dense, Dropout, BatchNormalization\n",
        "from tensorflow.keras.optimizers import Adam\n",
        "from tensorflow.keras.callbacks import EarlyStopping\n",
        "\n",
        "# Load the dataset\n",
        "data = pd.read_csv('/content/LoanData_Bondora.csv')\n",
        "\n",
        "data['Status']= data['Status'].apply(lambda x:'Non default' if 'Repaid' in x else 'Defaulted')\n",
        "# Define the target variable and features\n",
        "target = data['Status']\n",
        "features = data[['Amount', 'Interest', 'PrincipalPaymentsMade', 'InterestAndPenaltyDebtServicingCost',\n",
        "                 'PrincipalDebtServicingCost', 'BidsPortfolioManager', 'BidsApi', 'BidsManual',\n",
        "                 'IncomeTotal', 'LiabilitiesTotal']]\n"
      ],
      "metadata": {
        "colab": {
          "base_uri": "https://localhost:8080/"
        },
        "id": "qeaDlPGByjak",
        "outputId": "9f148724-f2b1-468b-c47e-0fc0f8ec1176"
      },
      "execution_count": null,
      "outputs": [
        {
          "output_type": "stream",
          "name": "stderr",
          "text": [
            "<ipython-input-2-adba07566568>:17: DtypeWarning: Columns (34,38,80,82,83,89,90) have mixed types. Specify dtype option on import or set low_memory=False.\n",
            "  data = pd.read_csv('/content/LoanData_Bondora.csv')\n"
          ]
        }
      ]
    },
    {
      "cell_type": "code",
      "source": [
        "data['Status'].value_counts()"
      ],
      "metadata": {
        "id": "zFy19Go9ByVF",
        "colab": {
          "base_uri": "https://localhost:8080/",
          "height": 178
        },
        "outputId": "4638b031-d618-43ec-dfe5-e6e2dc58aba6"
      },
      "execution_count": null,
      "outputs": [
        {
          "output_type": "execute_result",
          "data": {
            "text/plain": [
              "Status\n",
              "Defaulted      126348\n",
              "Non default     52887\n",
              "Name: count, dtype: int64"
            ],
            "text/html": [
              "<div>\n",
              "<style scoped>\n",
              "    .dataframe tbody tr th:only-of-type {\n",
              "        vertical-align: middle;\n",
              "    }\n",
              "\n",
              "    .dataframe tbody tr th {\n",
              "        vertical-align: top;\n",
              "    }\n",
              "\n",
              "    .dataframe thead th {\n",
              "        text-align: right;\n",
              "    }\n",
              "</style>\n",
              "<table border=\"1\" class=\"dataframe\">\n",
              "  <thead>\n",
              "    <tr style=\"text-align: right;\">\n",
              "      <th></th>\n",
              "      <th>count</th>\n",
              "    </tr>\n",
              "    <tr>\n",
              "      <th>Status</th>\n",
              "      <th></th>\n",
              "    </tr>\n",
              "  </thead>\n",
              "  <tbody>\n",
              "    <tr>\n",
              "      <th>Defaulted</th>\n",
              "      <td>126348</td>\n",
              "    </tr>\n",
              "    <tr>\n",
              "      <th>Non default</th>\n",
              "      <td>52887</td>\n",
              "    </tr>\n",
              "  </tbody>\n",
              "</table>\n",
              "</div><br><label><b>dtype:</b> int64</label>"
            ]
          },
          "metadata": {},
          "execution_count": 3
        }
      ]
    },
    {
      "cell_type": "code",
      "source": [
        "# Handle any missing values in features and target\n",
        "features = features.fillna(features.mean())\n",
        "target = target.fillna(target.mode()[0])\n",
        "\n",
        "# Encode the target variable if it's categorical\n",
        "target = pd.factorize(target)[0]\n",
        "\n",
        "# Split the data into training and testing sets\n",
        "X_train, X_test, y_train, y_test = train_test_split(features, target, test_size=0.2, random_state=42)\n",
        "\n",
        "# Standardize the feature data\n",
        "scaler = StandardScaler()\n",
        "X_train = scaler.fit_transform(X_train)\n",
        "X_test = scaler.transform(X_test)\n",
        "\n",
        "y_train_binary = [0 if status in [0, 1] else 1 for status in y_train]\n",
        "y_test_binary = [0 if status in [0, 1] else 1 for status in y_test]"
      ],
      "metadata": {
        "id": "D31ndmrQBw8P"
      },
      "execution_count": null,
      "outputs": []
    },
    {
      "cell_type": "code",
      "source": [
        "# Define input shape and number of classes\n",
        "input_shape = X_train.shape[1]\n",
        "num_classes = len(np.unique(y_train))\n",
        "\n",
        "# Define the Neural Network model\n",
        "model = Sequential([\n",
        "    Dense(256, activation='relu', input_shape=(input_shape,)),\n",
        "    BatchNormalization(),\n",
        "    Dropout(0.5),\n",
        "    Dense(128, activation='relu'),\n",
        "    BatchNormalization(),\n",
        "    Dropout(0.5),\n",
        "    Dense(64, activation='relu'),\n",
        "    BatchNormalization(),\n",
        "    Dropout(0.5),\n",
        "    Dense(num_classes, activation='softmax')\n",
        "])\n",
        "\n"
      ],
      "metadata": {
        "id": "k-ePyhPYyjdK",
        "colab": {
          "base_uri": "https://localhost:8080/"
        },
        "outputId": "a1e1fa8d-8bc5-487f-f1df-1ec246738990"
      },
      "execution_count": null,
      "outputs": [
        {
          "output_type": "stream",
          "name": "stderr",
          "text": [
            "/usr/local/lib/python3.10/dist-packages/keras/src/layers/core/dense.py:87: UserWarning: Do not pass an `input_shape`/`input_dim` argument to a layer. When using Sequential models, prefer using an `Input(shape)` object as the first layer in the model instead.\n",
            "  super().__init__(activity_regularizer=activity_regularizer, **kwargs)\n"
          ]
        }
      ]
    },
    {
      "cell_type": "code",
      "source": [
        "# Compile the model\n",
        "optimizer = Adam(learning_rate=0.05)\n",
        "model.compile(optimizer=optimizer, loss='sparse_categorical_crossentropy', metrics=['accuracy'])\n",
        "\n",
        "# Set up early stopping\n",
        "early_stopping = EarlyStopping(monitor='val_loss', patience=5, restore_best_weights=True)\n",
        "\n",
        "# Calculate class weights\n",
        "class_weights = compute_class_weight('balanced', classes=np.unique(y_train), y=y_train)\n",
        "class_weights = dict(enumerate(class_weights))\n",
        "\n"
      ],
      "metadata": {
        "id": "ncplwQpryjfx"
      },
      "execution_count": null,
      "outputs": []
    },
    {
      "cell_type": "code",
      "source": [
        "# Train the model\n",
        "history = model.fit(X_train, y_train, epochs=40, batch_size=64, validation_split=0.2, callbacks=[early_stopping], class_weight=class_weights)\n",
        "\n",
        "# Make predictions and evaluate the model\n",
        "y_pred = np.argmax(model.predict(X_test), axis=1)\n",
        "accuracy = accuracy_score(y_test, y_pred)\n",
        "precision = precision_score(y_test, y_pred, average='weighted')\n",
        "recall = recall_score(y_test, y_pred, average='weighted')\n",
        "f1 = f1_score(y_test, y_pred, average='weighted')\n"
      ],
      "metadata": {
        "id": "yf1CVXjsyjkb",
        "colab": {
          "base_uri": "https://localhost:8080/"
        },
        "outputId": "0546afb2-6628-49e5-bb36-c3be80feebcf",
        "collapsed": true
      },
      "execution_count": null,
      "outputs": [
        {
          "output_type": "stream",
          "name": "stdout",
          "text": [
            "Epoch 1/40\n",
            "\u001b[1m1793/1793\u001b[0m \u001b[32m━━━━━━━━━━━━━━━━━━━━\u001b[0m\u001b[37m\u001b[0m \u001b[1m23s\u001b[0m 11ms/step - accuracy: 0.9223 - loss: 0.2168 - val_accuracy: 0.9603 - val_loss: 0.1522\n",
            "Epoch 2/40\n",
            "\u001b[1m1793/1793\u001b[0m \u001b[32m━━━━━━━━━━━━━━━━━━━━\u001b[0m\u001b[37m\u001b[0m \u001b[1m16s\u001b[0m 8ms/step - accuracy: 0.9559 - loss: 0.1399 - val_accuracy: 0.9743 - val_loss: 0.0832\n",
            "Epoch 3/40\n",
            "\u001b[1m1793/1793\u001b[0m \u001b[32m━━━━━━━━━━━━━━━━━━━━\u001b[0m\u001b[37m\u001b[0m \u001b[1m10s\u001b[0m 6ms/step - accuracy: 0.9587 - loss: 0.1327 - val_accuracy: 0.9759 - val_loss: 0.0683\n",
            "Epoch 4/40\n",
            "\u001b[1m1793/1793\u001b[0m \u001b[32m━━━━━━━━━━━━━━━━━━━━\u001b[0m\u001b[37m\u001b[0m \u001b[1m10s\u001b[0m 6ms/step - accuracy: 0.9589 - loss: 0.1332 - val_accuracy: 0.9765 - val_loss: 0.0709\n",
            "Epoch 5/40\n",
            "\u001b[1m1793/1793\u001b[0m \u001b[32m━━━━━━━━━━━━━━━━━━━━\u001b[0m\u001b[37m\u001b[0m \u001b[1m21s\u001b[0m 6ms/step - accuracy: 0.9624 - loss: 0.1212 - val_accuracy: 0.9762 - val_loss: 0.0758\n",
            "Epoch 6/40\n",
            "\u001b[1m1793/1793\u001b[0m \u001b[32m━━━━━━━━━━━━━━━━━━━━\u001b[0m\u001b[37m\u001b[0m \u001b[1m20s\u001b[0m 6ms/step - accuracy: 0.9644 - loss: 0.1162 - val_accuracy: 0.9768 - val_loss: 0.0804\n",
            "Epoch 7/40\n",
            "\u001b[1m1793/1793\u001b[0m \u001b[32m━━━━━━━━━━━━━━━━━━━━\u001b[0m\u001b[37m\u001b[0m \u001b[1m21s\u001b[0m 6ms/step - accuracy: 0.9660 - loss: 0.1140 - val_accuracy: 0.9765 - val_loss: 0.0793\n",
            "Epoch 8/40\n",
            "\u001b[1m1793/1793\u001b[0m \u001b[32m━━━━━━━━━━━━━━━━━━━━\u001b[0m\u001b[37m\u001b[0m \u001b[1m11s\u001b[0m 6ms/step - accuracy: 0.9668 - loss: 0.1113 - val_accuracy: 0.9804 - val_loss: 0.0593\n",
            "Epoch 9/40\n",
            "\u001b[1m1793/1793\u001b[0m \u001b[32m━━━━━━━━━━━━━━━━━━━━\u001b[0m\u001b[37m\u001b[0m \u001b[1m11s\u001b[0m 6ms/step - accuracy: 0.9663 - loss: 0.1087 - val_accuracy: 0.9802 - val_loss: 0.0630\n",
            "Epoch 10/40\n",
            "\u001b[1m1793/1793\u001b[0m \u001b[32m━━━━━━━━━━━━━━━━━━━━\u001b[0m\u001b[37m\u001b[0m \u001b[1m20s\u001b[0m 6ms/step - accuracy: 0.9695 - loss: 0.1012 - val_accuracy: 0.9797 - val_loss: 0.0585\n",
            "Epoch 11/40\n",
            "\u001b[1m1793/1793\u001b[0m \u001b[32m━━━━━━━━━━━━━━━━━━━━\u001b[0m\u001b[37m\u001b[0m \u001b[1m20s\u001b[0m 6ms/step - accuracy: 0.9697 - loss: 0.0988 - val_accuracy: 0.9811 - val_loss: 0.0571\n",
            "Epoch 12/40\n",
            "\u001b[1m1793/1793\u001b[0m \u001b[32m━━━━━━━━━━━━━━━━━━━━\u001b[0m\u001b[37m\u001b[0m \u001b[1m9s\u001b[0m 5ms/step - accuracy: 0.9676 - loss: 0.1083 - val_accuracy: 0.9805 - val_loss: 0.0592\n",
            "Epoch 13/40\n",
            "\u001b[1m1793/1793\u001b[0m \u001b[32m━━━━━━━━━━━━━━━━━━━━\u001b[0m\u001b[37m\u001b[0m \u001b[1m11s\u001b[0m 6ms/step - accuracy: 0.9689 - loss: 0.1020 - val_accuracy: 0.9783 - val_loss: 0.0674\n",
            "Epoch 14/40\n",
            "\u001b[1m1793/1793\u001b[0m \u001b[32m━━━━━━━━━━━━━━━━━━━━\u001b[0m\u001b[37m\u001b[0m \u001b[1m11s\u001b[0m 6ms/step - accuracy: 0.9693 - loss: 0.1017 - val_accuracy: 0.9819 - val_loss: 0.0676\n",
            "Epoch 15/40\n",
            "\u001b[1m1793/1793\u001b[0m \u001b[32m━━━━━━━━━━━━━━━━━━━━\u001b[0m\u001b[37m\u001b[0m \u001b[1m20s\u001b[0m 6ms/step - accuracy: 0.9688 - loss: 0.1073 - val_accuracy: 0.9760 - val_loss: 0.0788\n",
            "Epoch 16/40\n",
            "\u001b[1m1793/1793\u001b[0m \u001b[32m━━━━━━━━━━━━━━━━━━━━\u001b[0m\u001b[37m\u001b[0m \u001b[1m21s\u001b[0m 6ms/step - accuracy: 0.9700 - loss: 0.1000 - val_accuracy: 0.9767 - val_loss: 0.0712\n",
            "\u001b[1m1121/1121\u001b[0m \u001b[32m━━━━━━━━━━━━━━━━━━━━\u001b[0m\u001b[37m\u001b[0m \u001b[1m2s\u001b[0m 2ms/step\n"
          ]
        }
      ]
    },
    {
      "cell_type": "code",
      "source": [
        "# Print results\n",
        "print(f\"Accuracy: {accuracy:.2f}\")\n",
        "print(f\"Precision: {precision:.2f}\")\n",
        "print(f\"Recall: {recall:.2f}\")\n",
        "print(f\"F1 Score: {f1:.2f}\")\n",
        "print(f\"Model Accuracy: {accuracy * 100:.2f}%\")\n",
        "# Confusion Matrix\n",
        "conf_matrix = confusion_matrix(y_test, y_pred)\n",
        "\n",
        "# Plotting the Confusion Matrix\n",
        "plt.figure(figsize=(8, 6))\n",
        "sns.heatmap(conf_matrix, annot=True, fmt='d', cmap='Blues')\n",
        "plt.xlabel('Predicted')\n",
        "plt.ylabel('Actual')\n",
        "plt.title('Confusion Matrix')\n",
        "plt.show()\n"
      ],
      "metadata": {
        "id": "OEcSIY8ryjnZ",
        "colab": {
          "base_uri": "https://localhost:8080/",
          "height": 651
        },
        "outputId": "44e8bfee-e813-4c5b-b29e-9d62cc9ab25b"
      },
      "execution_count": null,
      "outputs": [
        {
          "output_type": "stream",
          "name": "stdout",
          "text": [
            "Accuracy: 0.98\n",
            "Precision: 0.98\n",
            "Recall: 0.98\n",
            "F1 Score: 0.98\n",
            "Model Accuracy: 97.93%\n"
          ]
        },
        {
          "output_type": "display_data",
          "data": {
            "text/plain": [
              "<Figure size 800x600 with 2 Axes>"
            ],
            "image/png": "[encoded data removed]"
          },
          "metadata": {}
        }
      ]
    },
    {
      "cell_type": "code",
      "source": [
        "import numpy as np\n",
        "import numpy_financial as npf\n",
        "# Define functions to calculate IRR and ERR\n",
        "def calculate_irr(principal, cash_flows, recovery_amount=0):\n",
        "    # Adjust the cash flow sequence to include recovery if defaulted\n",
        "    if recovery_amount > 0:\n",
        "        cash_flows[-1] += recovery_amount\n",
        "    # Calculate IRR; npf.irr expects a list of cash flows starting with the initial negative investment\n",
        "    irr = npf.irr([-principal] + cash_flows)\n",
        "    return irr * 12  # Annualize IRR\n",
        "\n",
        "def calculate_err(principal, cash_flows, term, risk_free_rate=0.01, recovery_amount=0, default_occurred=False):\n",
        "    FV = 0  # Initialize future value at term end\n",
        "    for i, cash_flow in enumerate(cash_flows):\n",
        "        # Calculate future value by reinvesting each cash flow at the risk-free rate until end of term\n",
        "        if cash_flow != 0:\n",
        "            FV += cash_flow * np.prod([1 + risk_free_rate / 12 for _ in range(i+1, term)])\n",
        "    if default_occurred:\n",
        "        FV += recovery_amount  # Add recovery amount if defaulted\n",
        "    # Calculate ERR\n",
        "    err = (FV / principal) ** (12 / term) - 1\n",
        "    return err\n",
        "\n",
        "# Generate IRR and ERR for each loan based on cash flows and term\n",
        "data['IRR'] = data.apply(lambda row: calculate_irr(row['Amount'], [row['PrincipalPaymentsMade']], row.get('RecoveryAmount', 0)), axis=1)\n",
        "data['ERR'] = data.apply(lambda row: calculate_err(row['Amount'], [row['PrincipalPaymentsMade']], term=36, risk_free_rate=0.01, recovery_amount=row.get('RecoveryAmount', 0), default_occurred=row['Status'] == 'Defaulted'), axis=1)\n",
        "\n",
        "# Identify top 20 loans by ERR\n",
        "top_loans_by_err = data.nlargest(20, 'ERR')\n",
        "print(\"Top 20 Loans by ERR:\")\n",
        "print(top_loans_by_err[['Amount', 'IRR', 'ERR']])"
      ],
      "metadata": {
        "id": "AS0I0YxQDqhs",
        "colab": {
          "base_uri": "https://localhost:8080/"
        },
        "outputId": "e39e9efe-380e-4c0f-f761-1c44bcc6a40a"
      },
      "execution_count": null,
      "outputs": [
        {
          "output_type": "stream",
          "name": "stdout",
          "text": [
            "Top 20 Loans by ERR:\n",
            "          Amount       IRR       ERR\n",
            "2158    447.3996  0.917301  0.034866\n",
            "25496   530.0000  0.267396  0.017211\n",
            "3817   1050.0000  0.030514  0.010621\n",
            "3055    900.0000  0.026267  0.010502\n",
            "4035    700.0000  0.021771  0.010376\n",
            "1666    249.2513  0.000000  0.009766\n",
            "7      1000.0000  0.000000  0.009766\n",
            "8      4000.0000  0.000000  0.009766\n",
            "9      5000.0000  0.000000  0.009766\n",
            "10     2000.0000  0.000000  0.009766\n",
            "11      530.0000  0.000000  0.009766\n",
            "12     5500.0000  0.000000  0.009766\n",
            "13     6900.0000  0.000000  0.009766\n",
            "16      530.0000  0.000000  0.009766\n",
            "18     3720.0000  0.000000  0.009766\n",
            "28     1595.0000  0.000000  0.009766\n",
            "29     1500.0000  0.000000  0.009766\n",
            "33     1000.0000  0.000000  0.009766\n",
            "36     4785.0000  0.000000  0.009766\n",
            "39      500.0000  0.000000  0.009766\n"
          ]
        }
      ]
    },
    {
      "cell_type": "code",
      "source": [
        "# Precision over time (cumulative)\n",
        "import matplotlib.pyplot as plt\n",
        "from sklearn.metrics import precision_score\n",
        "\n",
        "# Initialize an empty list to store precision scores at each step\n",
        "precision_scores = []\n",
        "interval = 10\n",
        "\n",
        "# Iterate over a range to simulate time-series precision measurement\n",
        "for i in range(1, len(y_test)):\n",
        "    # Calculate precision for the subset of predictions up to index i\n",
        "    precision = precision_score(y_test[:i], y_pred[:i], average='weighted')\n",
        "    precision_scores.append(precision)\n",
        "\n",
        "# Plot the precision over time\n",
        "plt.figure(figsize=(10, 6))\n",
        "plt.plot(range(1, len(y_test)), precision_scores, color='blue', marker='o', linestyle='-', linewidth=1, markersize=4)\n",
        "plt.xlabel('Number of Predictions')\n",
        "plt.ylabel('Cumulative Precision Score')\n",
        "plt.title('Precision Over Time (ANN Model)')\n",
        "plt.grid(True)\n",
        "plt.show()\n"
      ],
      "metadata": {
        "colab": {
          "base_uri": "https://localhost:8080/",
          "height": 564
        },
        "id": "zt7CXu4TcZ3z",
        "outputId": "effc79ac-9dad-49f2-8940-cf582befd82a"
      },
      "execution_count": null,
      "outputs": [
        {
          "output_type": "display_data",
          "data": {
            "text/plain": [
              "<Figure size 1000x600 with 1 Axes>"
            ],
            "image/png": "[encoded data removed]"
          },
          "metadata": {}
        }
      ]
    }
  ]
}