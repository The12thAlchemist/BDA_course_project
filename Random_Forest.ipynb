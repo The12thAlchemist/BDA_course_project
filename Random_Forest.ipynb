{
  "nbformat": 4,
  "nbformat_minor": 0,
  "metadata": {
    "colab": {
      "provenance": []
    },
    "kernelspec": {
      "name": "python3",
      "display_name": "Python 3"
    },
    "language_info": {
      "name": "python"
    }
  },
  "cells": [
    {
      "cell_type": "code",
      "source": [
        "# Install necessary libraries\n",
        "!pip install numpy-financial"
      ],
      "metadata": {
        "colab": {
          "base_uri": "https://localhost:8080/"
        },
        "id": "kPg0iS-kLRPZ",
        "outputId": "335f2a33-83eb-498d-8e97-f956da8bfb3b"
      },
      "execution_count": null,
      "outputs": [
        {
          "output_type": "stream",
          "name": "stdout",
          "text": [
            "Collecting numpy-financial\n",
            "  Downloading numpy_financial-1.0.0-py3-none-any.whl.metadata (2.2 kB)\n",
            "Requirement already satisfied: numpy>=1.15 in /usr/local/lib/python3.10/dist-packages (from numpy-financial) (1.26.4)\n",
            "Downloading numpy_financial-1.0.0-py3-none-any.whl (14 kB)\n",
            "Installing collected packages: numpy-financial\n",
            "Successfully installed numpy-financial-1.0.0\n"
          ]
        }
      ]
    },
    {
      "cell_type": "code",
      "source": [
        "# Import libraries\n",
        "import pandas as pd\n",
        "from sklearn.model_selection import train_test_split\n",
        "from sklearn.ensemble import RandomForestClassifier\n",
        "from sklearn.preprocessing import LabelEncoder\n",
        "from sklearn.metrics import classification_report, accuracy_score\n",
        "import numpy as np\n",
        "import numpy_financial as npf\n",
        "\n",
        "from sklearn.metrics import accuracy_score, precision_score, recall_score, f1_score, confusion_matrix\n",
        "import seaborn as sns\n",
        "import matplotlib.pyplot as plt\n",
        "\n",
        "# Load the dataset (update path if necessary)\n",
        "data = pd.read_csv('/content/LoanData_Bondora.csv', na_values=['n/a'])\n",
        "\n",
        "# Selecting relevant features and target\n",
        "\n"
      ],
      "metadata": {
        "colab": {
          "base_uri": "https://localhost:8080/"
        },
        "id": "SreoE18NN_uv",
        "outputId": "9c569250-b69d-4612-9223-b11852a3e278"
      },
      "execution_count": null,
      "outputs": [
        {
          "output_type": "stream",
          "name": "stderr",
          "text": [
            "<ipython-input-2-c4610c2daceb>:15: DtypeWarning: Columns (34,38,80,82,83,89,90) have mixed types. Specify dtype option on import or set low_memory=False.\n",
            "  data = pd.read_csv('/content/LoanData_Bondora.csv', na_values=['n/a'])\n"
          ]
        }
      ]
    },
    {
      "cell_type": "code",
      "source": [
        "data.columns.tolist()"
      ],
      "metadata": {
        "id": "w2en-G3AO7ul",
        "colab": {
          "base_uri": "https://localhost:8080/"
        },
        "outputId": "cf32e28e-213b-47ce-a738-f683b4a24fe7"
      },
      "execution_count": null,
      "outputs": [
        {
          "output_type": "execute_result",
          "data": {
            "text/plain": [
              "['ReportAsOfEOD',\n",
              " 'LoanId',\n",
              " 'LoanNumber',\n",
              " 'ListedOnUTC',\n",
              " 'BiddingStartedOn',\n",
              " 'BidsPortfolioManager',\n",
              " 'BidsApi',\n",
              " 'BidsManual',\n",
              " 'UserName',\n",
              " 'NewCreditCustomer',\n",
              " 'LoanApplicationStartedDate',\n",
              " 'LoanDate',\n",
              " 'ContractEndDate',\n",
              " 'FirstPaymentDate',\n",
              " 'MaturityDate_Original',\n",
              " 'MaturityDate_Last',\n",
              " 'ApplicationSignedHour',\n",
              " 'ApplicationSignedWeekday',\n",
              " 'VerificationType',\n",
              " 'LanguageCode',\n",
              " 'Age',\n",
              " 'DateOfBirth',\n",
              " 'Gender',\n",
              " 'Country',\n",
              " 'AppliedAmount',\n",
              " 'Amount',\n",
              " 'Interest',\n",
              " 'LoanDuration',\n",
              " 'MonthlyPayment',\n",
              " 'County',\n",
              " 'City',\n",
              " 'UseOfLoan',\n",
              " 'Education',\n",
              " 'MaritalStatus',\n",
              " 'NrOfDependants',\n",
              " 'EmploymentStatus',\n",
              " 'EmploymentDurationCurrentEmployer',\n",
              " 'EmploymentPosition',\n",
              " 'WorkExperience',\n",
              " 'OccupationArea',\n",
              " 'HomeOwnershipType',\n",
              " 'IncomeFromPrincipalEmployer',\n",
              " 'IncomeFromPension',\n",
              " 'IncomeFromFamilyAllowance',\n",
              " 'IncomeFromSocialWelfare',\n",
              " 'IncomeFromLeavePay',\n",
              " 'IncomeFromChildSupport',\n",
              " 'IncomeOther',\n",
              " 'IncomeTotal',\n",
              " 'ExistingLiabilities',\n",
              " 'LiabilitiesTotal',\n",
              " 'RefinanceLiabilities',\n",
              " 'DebtToIncome',\n",
              " 'FreeCash',\n",
              " 'MonthlyPaymentDay',\n",
              " 'ActiveScheduleFirstPaymentReached',\n",
              " 'PlannedPrincipalTillDate',\n",
              " 'PlannedInterestTillDate',\n",
              " 'LastPaymentOn',\n",
              " 'CurrentDebtDaysPrimary',\n",
              " 'DebtOccuredOn',\n",
              " 'CurrentDebtDaysSecondary',\n",
              " 'DebtOccuredOnForSecondary',\n",
              " 'ExpectedLoss',\n",
              " 'LossGivenDefault',\n",
              " 'ExpectedReturn',\n",
              " 'ProbabilityOfDefault',\n",
              " 'DefaultDate',\n",
              " 'PrincipalOverdueBySchedule',\n",
              " 'PlannedPrincipalPostDefault',\n",
              " 'PlannedInterestPostDefault',\n",
              " 'EAD1',\n",
              " 'EAD2',\n",
              " 'PrincipalRecovery',\n",
              " 'InterestRecovery',\n",
              " 'RecoveryStage',\n",
              " 'StageActiveSince',\n",
              " 'ModelVersion',\n",
              " 'Rating',\n",
              " 'EL_V0',\n",
              " 'Rating_V0',\n",
              " 'EL_V1',\n",
              " 'Rating_V1',\n",
              " 'Rating_V2',\n",
              " 'Status',\n",
              " 'Restructured',\n",
              " 'ActiveLateCategory',\n",
              " 'WorseLateCategory',\n",
              " 'CreditScoreEsMicroL',\n",
              " 'CreditScoreEsEquifaxRisk',\n",
              " 'CreditScoreFiAsiakasTietoRiskGrade',\n",
              " 'CreditScoreEeMini',\n",
              " 'PrincipalPaymentsMade',\n",
              " 'InterestAndPenaltyPaymentsMade',\n",
              " 'PrincipalWriteOffs',\n",
              " 'InterestAndPenaltyWriteOffs',\n",
              " 'PrincipalBalance',\n",
              " 'InterestAndPenaltyBalance',\n",
              " 'NoOfPreviousLoansBeforeLoan',\n",
              " 'AmountOfPreviousLoansBeforeLoan',\n",
              " 'PreviousRepaymentsBeforeLoan',\n",
              " 'PreviousEarlyRepaymentsBefoleLoan',\n",
              " 'PreviousEarlyRepaymentsCountBeforeLoan',\n",
              " 'GracePeriodStart',\n",
              " 'GracePeriodEnd',\n",
              " 'NextPaymentDate',\n",
              " 'NextPaymentNr',\n",
              " 'NrOfScheduledPayments',\n",
              " 'ReScheduledOn',\n",
              " 'PrincipalDebtServicingCost',\n",
              " 'InterestAndPenaltyDebtServicingCost',\n",
              " 'ActiveLateLastPaymentCategory']"
            ]
          },
          "metadata": {},
          "execution_count": 3
        }
      ]
    },
    {
      "cell_type": "code",
      "source": [
        "# Display basic information\n",
        "print(data.info())\n",
        "print(data.describe())\n",
        "\n",
        "# Check for missing values\n",
        "print(data.isnull().sum())"
      ],
      "metadata": {
        "collapsed": true,
        "id": "RiomrDMbPLpe",
        "colab": {
          "base_uri": "https://localhost:8080/"
        },
        "outputId": "06107a9c-ce30-4941-e674-9a58fc9fdec0"
      },
      "execution_count": null,
      "outputs": [
        {
          "output_type": "stream",
          "name": "stdout",
          "text": [
            "<class 'pandas.core.frame.DataFrame'>\n",
            "RangeIndex: 179235 entries, 0 to 179234\n",
            "Columns: 112 entries, ReportAsOfEOD to ActiveLateLastPaymentCategory\n",
            "dtypes: bool(3), float64(62), int64(12), object(35)\n",
            "memory usage: 149.6+ MB\n",
            "None\n",
            "         LoanNumber  BidsPortfolioManager        BidsApi     BidsManual  \\\n",
            "count  1.792350e+05         179235.000000  179235.000000  179235.000000   \n",
            "mean   1.239306e+06            797.962530      27.432337     499.544776   \n",
            "std    6.610266e+05           1235.509764     147.568318     714.723996   \n",
            "min    3.700000e+01              0.000000       0.000000       0.000000   \n",
            "25%    7.125380e+05            105.000000       0.000000      50.000000   \n",
            "50%    1.096557e+06            336.000000       0.000000     258.000000   \n",
            "75%    1.851458e+06            960.000000       4.000000     639.116700   \n",
            "max    2.313298e+06          10625.000000    7570.000000   10630.000000   \n",
            "\n",
            "       ApplicationSignedHour  ApplicationSignedWeekday  VerificationType  \\\n",
            "count          179235.000000             179235.000000     179185.000000   \n",
            "mean               13.325260                  3.917907          3.043402   \n",
            "std                 4.995317                  1.752335          1.352504   \n",
            "min                 0.000000                  1.000000          0.000000   \n",
            "25%                10.000000                  2.000000          1.000000   \n",
            "50%                13.000000                  4.000000          4.000000   \n",
            "75%                17.000000                  5.000000          4.000000   \n",
            "max                23.000000                  7.000000          4.000000   \n",
            "\n",
            "        LanguageCode            Age  DateOfBirth  ...  \\\n",
            "count  179235.000000  179235.000000          0.0  ...   \n",
            "mean        2.675153      40.389137          NaN  ...   \n",
            "std         1.874840      12.359547          NaN  ...   \n",
            "min         1.000000       0.000000          NaN  ...   \n",
            "25%         1.000000      31.000000          NaN  ...   \n",
            "50%         2.000000      39.000000          NaN  ...   \n",
            "75%         4.000000      49.000000          NaN  ...   \n",
            "max        22.000000      77.000000          NaN  ...   \n",
            "\n",
            "       InterestAndPenaltyBalance  NoOfPreviousLoansBeforeLoan  \\\n",
            "count              174003.000000                179226.000000   \n",
            "mean                  939.417878                     1.575597   \n",
            "std                  2966.287413                     2.520403   \n",
            "min                    -2.660000                     0.000000   \n",
            "25%                     0.000000                     0.000000   \n",
            "50%                     0.000000                     1.000000   \n",
            "75%                   524.265000                     2.000000   \n",
            "max                 78982.070000                    27.000000   \n",
            "\n",
            "       AmountOfPreviousLoansBeforeLoan  PreviousRepaymentsBeforeLoan  \\\n",
            "count                    179226.000000                 116849.000000   \n",
            "mean                       3129.574483                    978.885518   \n",
            "std                        4887.281797                   1956.009612   \n",
            "min                           0.000000                      0.000000   \n",
            "25%                           0.000000                      0.000000   \n",
            "50%                         530.000000                    279.280000   \n",
            "75%                        4253.000000                    940.520000   \n",
            "max                       72778.000000                  34077.420000   \n",
            "\n",
            "       PreviousEarlyRepaymentsBefoleLoan  \\\n",
            "count                       58885.000000   \n",
            "mean                          364.810843   \n",
            "std                          1660.148567   \n",
            "min                             0.000000   \n",
            "25%                             0.000000   \n",
            "50%                             0.000000   \n",
            "75%                             0.000000   \n",
            "max                         48100.000000   \n",
            "\n",
            "       PreviousEarlyRepaymentsCountBeforeLoan  NextPaymentNr  \\\n",
            "count                           179226.000000  112291.000000   \n",
            "mean                                 0.062686       5.673491   \n",
            "std                                  0.340707       8.472659   \n",
            "min                                  0.000000       0.000000   \n",
            "25%                                  0.000000       0.000000   \n",
            "50%                                  0.000000       2.000000   \n",
            "75%                                  0.000000       8.000000   \n",
            "max                                 11.000000      60.000000   \n",
            "\n",
            "       NrOfScheduledPayments  PrincipalDebtServicingCost  \\\n",
            "count          112291.000000                76150.000000   \n",
            "mean               53.633773                    9.291100   \n",
            "std                12.393257                   75.611465   \n",
            "min                 1.000000                    0.000000   \n",
            "25%                48.000000                    0.000000   \n",
            "50%                60.000000                    0.000000   \n",
            "75%                60.000000                    0.000000   \n",
            "max                72.000000                 3325.330000   \n",
            "\n",
            "       InterestAndPenaltyDebtServicingCost  \n",
            "count                         76150.000000  \n",
            "mean                            158.354431  \n",
            "std                             366.688541  \n",
            "min                               0.000000  \n",
            "25%                               0.000000  \n",
            "50%                               0.000000  \n",
            "75%                             140.520000  \n",
            "max                            5824.550000  \n",
            "\n",
            "[8 rows x 74 columns]\n",
            "ReportAsOfEOD                               0\n",
            "LoanId                                      0\n",
            "LoanNumber                                  0\n",
            "ListedOnUTC                                 0\n",
            "BiddingStartedOn                            0\n",
            "                                        ...  \n",
            "NrOfScheduledPayments                   66944\n",
            "ReScheduledOn                          116191\n",
            "PrincipalDebtServicingCost             103085\n",
            "InterestAndPenaltyDebtServicingCost    103085\n",
            "ActiveLateLastPaymentCategory           96967\n",
            "Length: 112, dtype: int64\n"
          ]
        }
      ]
    },
    {
      "cell_type": "code",
      "source": [
        "data['Status']"
      ],
      "metadata": {
        "id": "MQCoCvqTbGNd",
        "colab": {
          "base_uri": "https://localhost:8080/",
          "height": 458
        },
        "outputId": "3950d926-d5a6-4786-9359-9abd138d0c12"
      },
      "execution_count": null,
      "outputs": [
        {
          "output_type": "execute_result",
          "data": {
            "text/plain": [
              "0           Late\n",
              "1           Late\n",
              "2         Repaid\n",
              "3           Late\n",
              "4           Late\n",
              "           ...  \n",
              "179230      Late\n",
              "179231    Repaid\n",
              "179232    Repaid\n",
              "179233    Repaid\n",
              "179234    Repaid\n",
              "Name: Status, Length: 179235, dtype: object"
            ],
            "text/html": [
              "<div>\n",
              "<style scoped>\n",
              "    .dataframe tbody tr th:only-of-type {\n",
              "        vertical-align: middle;\n",
              "    }\n",
              "\n",
              "    .dataframe tbody tr th {\n",
              "        vertical-align: top;\n",
              "    }\n",
              "\n",
              "    .dataframe thead th {\n",
              "        text-align: right;\n",
              "    }\n",
              "</style>\n",
              "<table border=\"1\" class=\"dataframe\">\n",
              "  <thead>\n",
              "    <tr style=\"text-align: right;\">\n",
              "      <th></th>\n",
              "      <th>Status</th>\n",
              "    </tr>\n",
              "  </thead>\n",
              "  <tbody>\n",
              "    <tr>\n",
              "      <th>0</th>\n",
              "      <td>Late</td>\n",
              "    </tr>\n",
              "    <tr>\n",
              "      <th>1</th>\n",
              "      <td>Late</td>\n",
              "    </tr>\n",
              "    <tr>\n",
              "      <th>2</th>\n",
              "      <td>Repaid</td>\n",
              "    </tr>\n",
              "    <tr>\n",
              "      <th>3</th>\n",
              "      <td>Late</td>\n",
              "    </tr>\n",
              "    <tr>\n",
              "      <th>4</th>\n",
              "      <td>Late</td>\n",
              "    </tr>\n",
              "    <tr>\n",
              "      <th>...</th>\n",
              "      <td>...</td>\n",
              "    </tr>\n",
              "    <tr>\n",
              "      <th>179230</th>\n",
              "      <td>Late</td>\n",
              "    </tr>\n",
              "    <tr>\n",
              "      <th>179231</th>\n",
              "      <td>Repaid</td>\n",
              "    </tr>\n",
              "    <tr>\n",
              "      <th>179232</th>\n",
              "      <td>Repaid</td>\n",
              "    </tr>\n",
              "    <tr>\n",
              "      <th>179233</th>\n",
              "      <td>Repaid</td>\n",
              "    </tr>\n",
              "    <tr>\n",
              "      <th>179234</th>\n",
              "      <td>Repaid</td>\n",
              "    </tr>\n",
              "  </tbody>\n",
              "</table>\n",
              "<p>179235 rows × 1 columns</p>\n",
              "</div><br><label><b>dtype:</b> object</label>"
            ]
          },
          "metadata": {},
          "execution_count": 5
        }
      ]
    },
    {
      "cell_type": "code",
      "source": [
        "data['Status']=data['Status'].apply(lambda x:'Non default' if 'Repaid' in x else 'Defaulted')\n",
        "data['Status']"
      ],
      "metadata": {
        "id": "YtRZSFeWbZOj",
        "colab": {
          "base_uri": "https://localhost:8080/",
          "height": 458
        },
        "outputId": "0e15d709-b2a6-498b-ade2-54bbdffae214"
      },
      "execution_count": null,
      "outputs": [
        {
          "output_type": "execute_result",
          "data": {
            "text/plain": [
              "0           Defaulted\n",
              "1           Defaulted\n",
              "2         Non default\n",
              "3           Defaulted\n",
              "4           Defaulted\n",
              "             ...     \n",
              "179230      Defaulted\n",
              "179231    Non default\n",
              "179232    Non default\n",
              "179233    Non default\n",
              "179234    Non default\n",
              "Name: Status, Length: 179235, dtype: object"
            ],
            "text/html": [
              "<div>\n",
              "<style scoped>\n",
              "    .dataframe tbody tr th:only-of-type {\n",
              "        vertical-align: middle;\n",
              "    }\n",
              "\n",
              "    .dataframe tbody tr th {\n",
              "        vertical-align: top;\n",
              "    }\n",
              "\n",
              "    .dataframe thead th {\n",
              "        text-align: right;\n",
              "    }\n",
              "</style>\n",
              "<table border=\"1\" class=\"dataframe\">\n",
              "  <thead>\n",
              "    <tr style=\"text-align: right;\">\n",
              "      <th></th>\n",
              "      <th>Status</th>\n",
              "    </tr>\n",
              "  </thead>\n",
              "  <tbody>\n",
              "    <tr>\n",
              "      <th>0</th>\n",
              "      <td>Defaulted</td>\n",
              "    </tr>\n",
              "    <tr>\n",
              "      <th>1</th>\n",
              "      <td>Defaulted</td>\n",
              "    </tr>\n",
              "    <tr>\n",
              "      <th>2</th>\n",
              "      <td>Non default</td>\n",
              "    </tr>\n",
              "    <tr>\n",
              "      <th>3</th>\n",
              "      <td>Defaulted</td>\n",
              "    </tr>\n",
              "    <tr>\n",
              "      <th>4</th>\n",
              "      <td>Defaulted</td>\n",
              "    </tr>\n",
              "    <tr>\n",
              "      <th>...</th>\n",
              "      <td>...</td>\n",
              "    </tr>\n",
              "    <tr>\n",
              "      <th>179230</th>\n",
              "      <td>Defaulted</td>\n",
              "    </tr>\n",
              "    <tr>\n",
              "      <th>179231</th>\n",
              "      <td>Non default</td>\n",
              "    </tr>\n",
              "    <tr>\n",
              "      <th>179232</th>\n",
              "      <td>Non default</td>\n",
              "    </tr>\n",
              "    <tr>\n",
              "      <th>179233</th>\n",
              "      <td>Non default</td>\n",
              "    </tr>\n",
              "    <tr>\n",
              "      <th>179234</th>\n",
              "      <td>Non default</td>\n",
              "    </tr>\n",
              "  </tbody>\n",
              "</table>\n",
              "<p>179235 rows × 1 columns</p>\n",
              "</div><br><label><b>dtype:</b> object</label>"
            ]
          },
          "metadata": {},
          "execution_count": 6
        }
      ]
    },
    {
      "cell_type": "code",
      "source": [
        "# Define the target variable as 'Status' and the selected features that impact loan repayment\n",
        "target = data['Status']  # Assuming 'Status' indicates loan outcome\n",
        "features = data[['Amount', 'Interest', 'PrincipalPaymentsMade', 'InterestAndPenaltyDebtServicingCost',\n",
        "                 'PrincipalDebtServicingCost', 'BidsPortfolioManager', 'BidsApi', 'BidsManual',\n",
        "                 'IncomeTotal', 'LiabilitiesTotal']]\n"
      ],
      "metadata": {
        "id": "09FHAkHcOYip"
      },
      "execution_count": null,
      "outputs": []
    },
    {
      "cell_type": "code",
      "source": [
        "# Drop rows where 'Status' is missing\n",
        "data = data.dropna(subset=['Status'])\n",
        "\n",
        "# Fill missing values in features with the median\n",
        "features = features.fillna(features.median())\n",
        "\n",
        "# Encode the target variable\n",
        "label_encoder = LabelEncoder()\n",
        "y = label_encoder.fit_transform(target)\n",
        "\n",
        "# Split data into training and testing sets\n",
        "X_train, X_test, y_train, y_test = train_test_split(features, y, test_size=0.2, random_state=42)\n",
        "\n",
        "# Initialize and train the Random Forest Classifier\n",
        "rf_model = RandomForestClassifier(n_estimators=100, random_state=42)\n",
        "rf_model.fit(X_train, y_train)\n",
        "\n",
        "# Make predictions on the test set\n",
        "rf_y_pred = rf_model.predict(X_test)\n",
        "\n",
        "# Evaluate the model\n",
        "accuracy = accuracy_score(y_test, rf_y_pred)\n",
        "print(f\"Random Forest Model Accuracy: {accuracy * 100:.2f}%\")\n",
        "\n",
        "# Classification report\n",
        "print(\"\\nClassification Report:\")\n",
        "print(classification_report(y_test, rf_y_pred, target_names=label_encoder.classes_))"
      ],
      "metadata": {
        "id": "Tx6ma-jbN_0A",
        "colab": {
          "base_uri": "https://localhost:8080/"
        },
        "outputId": "3279b0dd-3918-423a-8d79-9d1e98cc8f9d"
      },
      "execution_count": null,
      "outputs": [
        {
          "output_type": "stream",
          "name": "stdout",
          "text": [
            "Random Forest Model Accuracy: 98.13%\n",
            "\n",
            "Classification Report:\n",
            "              precision    recall  f1-score   support\n",
            "\n",
            "   Defaulted       0.99      0.98      0.99     25312\n",
            " Non default       0.96      0.98      0.97     10535\n",
            "\n",
            "    accuracy                           0.98     35847\n",
            "   macro avg       0.98      0.98      0.98     35847\n",
            "weighted avg       0.98      0.98      0.98     35847\n",
            "\n"
          ]
        }
      ]
    },
    {
      "cell_type": "code",
      "source": [
        "# Print results\n",
        "print(f\"Accuracy: {accuracy:.2f}\")\n",
        "# print(f\"Precision: {precision:.2f}\")\n",
        "# print(f\"Recall: {recall:.2f}\")\n",
        "# print(f\"F1 Score: {f1:.2f}\")\n",
        "print(f\"Model Accuracy: {accuracy * 100:.2f}%\")\n",
        "# Confusion Matrix\n",
        "conf_matrix = confusion_matrix(y_test, rf_y_pred)\n",
        "\n",
        "# Plotting the Confusion Matrix\n",
        "plt.figure(figsize=(8, 6))\n",
        "sns.heatmap(conf_matrix, annot=True, fmt='d', cmap='Blues')\n",
        "plt.xlabel('Predicted')\n",
        "plt.ylabel('Actual')\n",
        "plt.title('Confusion Matrix')\n",
        "plt.show()"
      ],
      "metadata": {
        "id": "wUFzwdiVeFN6",
        "colab": {
          "base_uri": "https://localhost:8080/",
          "height": 599
        },
        "outputId": "6d89b0e4-91c0-400e-f946-fe365c7f8e79"
      },
      "execution_count": null,
      "outputs": [
        {
          "output_type": "stream",
          "name": "stdout",
          "text": [
            "Accuracy: 0.98\n",
            "Model Accuracy: 98.13%\n"
          ]
        },
        {
          "output_type": "display_data",
          "data": {
            "text/plain": [
              "<Figure size 800x600 with 2 Axes>"
            ],
            "image/png": "[encoded data removed]"
          },
          "metadata": {}
        }
      ]
    },
    {
      "cell_type": "code",
      "source": [
        "# Define functions to calculate IRR and ERR\n",
        "def calculate_irr(principal, cash_flows, recovery_amount=0):\n",
        "    # Adjust the cash flow sequence to include recovery if defaulted\n",
        "    if recovery_amount > 0:\n",
        "        cash_flows[-1] += recovery_amount\n",
        "    # Calculate IRR; npf.irr expects a list of cash flows starting with the initial negative investment\n",
        "    irr = npf.irr([-principal] + cash_flows)\n",
        "    return irr * 12  # Annualize IRR\n",
        "\n",
        "def calculate_err(principal, cash_flows, term, risk_free_rate=0.01, recovery_amount=0, default_occurred=False):\n",
        "    FV = 0  # Initialize future value at term end\n",
        "    for i, cash_flow in enumerate(cash_flows):\n",
        "        # Calculate future value by reinvesting each cash flow at the risk-free rate until end of term\n",
        "        if cash_flow != 0:\n",
        "            FV += cash_flow * np.prod([1 + risk_free_rate / 12 for _ in range(i+1, term)])\n",
        "    if default_occurred:\n",
        "        FV += recovery_amount  # Add recovery amount if defaulted\n",
        "    # Calculate ERR\n",
        "    err = (FV / principal) ** (12 / term) - 1\n",
        "    return err\n",
        "\n",
        "# Generate IRR and ERR for each loan based on cash flows and term\n",
        "data['IRR'] = data.apply(lambda row: calculate_irr(row['Amount'], [row['PrincipalPaymentsMade']], row.get('RecoveryAmount', 0)), axis=1)\n",
        "data['ERR'] = data.apply(lambda row: calculate_err(row['Amount'], [row['PrincipalPaymentsMade']], term=36, risk_free_rate=0.01, recovery_amount=row.get('RecoveryAmount', 0), default_occurred=row['Status'] == 'Defaulted'), axis=1)\n",
        "\n",
        "# Identify top 20 loans by ERR\n",
        "top_loans_by_err = data.nlargest(20, 'ERR')\n",
        "print(\"Top 20 Loans by ERR:\")\n",
        "print(top_loans_by_err[['Amount', 'IRR', 'ERR']])"
      ],
      "metadata": {
        "id": "yYLJuvLzsJ89",
        "colab": {
          "base_uri": "https://localhost:8080/"
        },
        "outputId": "0eb420d6-68b0-411f-fed0-78d9d3df92ef"
      },
      "execution_count": null,
      "outputs": [
        {
          "output_type": "stream",
          "name": "stdout",
          "text": [
            "Top 20 Loans by ERR:\n",
            "          Amount       IRR       ERR\n",
            "2158    447.3996  0.917301  0.034866\n",
            "25496   530.0000  0.267396  0.017211\n",
            "3817   1050.0000  0.030514  0.010621\n",
            "3055    900.0000  0.026267  0.010502\n",
            "4035    700.0000  0.021771  0.010376\n",
            "1666    249.2513  0.000000  0.009766\n",
            "7      1000.0000  0.000000  0.009766\n",
            "8      4000.0000  0.000000  0.009766\n",
            "9      5000.0000  0.000000  0.009766\n",
            "10     2000.0000  0.000000  0.009766\n",
            "11      530.0000  0.000000  0.009766\n",
            "12     5500.0000  0.000000  0.009766\n",
            "13     6900.0000  0.000000  0.009766\n",
            "16      530.0000  0.000000  0.009766\n",
            "18     3720.0000  0.000000  0.009766\n",
            "28     1595.0000  0.000000  0.009766\n",
            "29     1500.0000  0.000000  0.009766\n",
            "33     1000.0000  0.000000  0.009766\n",
            "36     4785.0000  0.000000  0.009766\n",
            "39      500.0000  0.000000  0.009766\n"
          ]
        }
      ]
    },
    {
      "cell_type": "code",
      "source": [
        "# Calculate precision over time\n",
        "from sklearn.metrics import precision_score\n",
        "\n",
        "# Initialize list to store precision at each step\n",
        "precision_scores = []\n",
        "interval = 10\n",
        "\n",
        "# Iterate over a range to simulate time-series precision measurement\n",
        "for i in range(1, len(y_test)):\n",
        "    # Calculate precision for the subset of predictions up to index i\n",
        "    precision = precision_score(y_test[:i], rf_y_pred[:i], average='weighted')\n",
        "    precision_scores.append(precision)\n",
        "\n",
        "# Plot precision over time\n",
        "plt.figure(figsize=(10, 6))\n",
        "plt.plot(range(1, len(y_test)), precision_scores, marker='o', color='b', label=\"Precision Over Time\")\n",
        "plt.xlabel(\"Number of Predictions\")\n",
        "plt.ylabel(\"Precision Score\")\n",
        "plt.title(\"Precision of Random Forest Model Over Time\")\n",
        "plt.legend()\n",
        "plt.grid(True)\n",
        "plt.show()\n"
      ],
      "metadata": {
        "colab": {
          "base_uri": "https://localhost:8080/",
          "height": 758
        },
        "id": "Oh_2FTd0Yn5A",
        "outputId": "690df742-dca2-464a-89b3-dadf7752859d"
      },
      "execution_count": null,
      "outputs": [
        {
          "output_type": "stream",
          "name": "stderr",
          "text": [
            "/usr/local/lib/python3.10/dist-packages/sklearn/metrics/_classification.py:1531: UndefinedMetricWarning: Precision is ill-defined and being set to 0.0 in labels with no predicted samples. Use `zero_division` parameter to control this behavior.\n",
            "  _warn_prf(average, modifier, f\"{metric.capitalize()} is\", len(result))\n",
            "/usr/local/lib/python3.10/dist-packages/sklearn/metrics/_classification.py:1531: UndefinedMetricWarning: Precision is ill-defined and being set to 0.0 in labels with no predicted samples. Use `zero_division` parameter to control this behavior.\n",
            "  _warn_prf(average, modifier, f\"{metric.capitalize()} is\", len(result))\n",
            "/usr/local/lib/python3.10/dist-packages/sklearn/metrics/_classification.py:1531: UndefinedMetricWarning: Precision is ill-defined and being set to 0.0 in labels with no predicted samples. Use `zero_division` parameter to control this behavior.\n",
            "  _warn_prf(average, modifier, f\"{metric.capitalize()} is\", len(result))\n",
            "/usr/local/lib/python3.10/dist-packages/sklearn/metrics/_classification.py:1531: UndefinedMetricWarning: Precision is ill-defined and being set to 0.0 in labels with no predicted samples. Use `zero_division` parameter to control this behavior.\n",
            "  _warn_prf(average, modifier, f\"{metric.capitalize()} is\", len(result))\n",
            "/usr/local/lib/python3.10/dist-packages/sklearn/metrics/_classification.py:1531: UndefinedMetricWarning: Precision is ill-defined and being set to 0.0 in labels with no predicted samples. Use `zero_division` parameter to control this behavior.\n",
            "  _warn_prf(average, modifier, f\"{metric.capitalize()} is\", len(result))\n"
          ]
        },
        {
          "output_type": "display_data",
          "data": {
            "text/plain": [
              "<Figure size 1000x600 with 1 Axes>"
            ],
            "image/png": "[encoded data removed]"
          },
          "metadata": {}
        }
      ]
    }
  ]
}